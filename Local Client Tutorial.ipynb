{
 "cells": [
  {
   "cell_type": "markdown",
   "id": "35db4c52-06e3-4c17-ab95-5c1bafe55c9a",
   "metadata": {},
   "source": [
    "# Introduction to Letta using the `LocalClient` \n",
    "This notebook is a tutorial on how to use Letta's `LocalClient`. Unlike the `RESTClient` which connects to a running agents service, the `LocalClient` will run agents on your local machine, so does not require connecting to a service. \n",
    "\n",
    "This tutorial will cover the basics of creating an agent, interacting with an agent, and understanding the agent's state and memories. "
   ]
  },
  {
   "cell_type": "markdown",
   "id": "ae2737c9-ecf1-4eea-a92a-f358d68a66b6",
   "metadata": {},
   "source": [
    "## Step 0: Install the `letta` package "
   ]
  },
  {
   "cell_type": "code",
   "execution_count": null,
   "id": "ba135418-96fb-4000-a04e-f0b80d887358",
   "metadata": {},
   "outputs": [],
   "source": [
    "!pip install letta"
   ]
  },
  {
   "cell_type": "markdown",
   "id": "709e913e-3ba6-40dd-99e8-875c8e38514e",
   "metadata": {},
   "source": [
    "We'll also import a helper function to print out messages from agents in a nice format: "
   ]
  },
  {
   "cell_type": "code",
   "execution_count": null,
   "id": "7b393d2f-a174-45fe-a91b-50f1c9a4cb9d",
   "metadata": {},
   "outputs": [],
   "source": [
    "from helper import nb_print "
   ]
  },
  {
   "cell_type": "markdown",
   "id": "55c7105f-2b94-4b67-9088-e4d3f9304e2c",
   "metadata": {},
   "source": [
    "## Step 1: Create a `LocalClient` \n"
   ]
  },
  {
   "cell_type": "code",
   "execution_count": null,
   "id": "1ffc14de-feed-43be-be02-4a57709debb2",
   "metadata": {},
   "outputs": [],
   "source": [
    "from letta import LocalClient\n",
    "\n",
    "client = LocalClient()"
   ]
  },
  {
   "cell_type": "markdown",
   "id": "6ca1d1c4-743b-4aee-a8e0-7d89cd55f887",
   "metadata": {},
   "source": [
    "### Configuring client defaults \n",
    "Agents in Letta are model agnostic, so they can connect to different model backends (you can even switch model backends for an existing agents). For this tutorial, we'll set a client default config so that all agents are created with the free letta model endpoints. "
   ]
  },
  {
   "cell_type": "code",
   "execution_count": null,
   "id": "0fd03b25-f9db-4e33-af35-43fd897862b2",
   "metadata": {},
   "outputs": [],
   "source": [
    "from letta import LLMConfig, EmbeddingConfig\n",
    "\n",
    "client.set_default_llm_config(LLMConfig.default_config(\"letta\")) \n",
    "client.set_default_embedding_config(EmbeddingConfig.default_config(\"letta\")) "
   ]
  },
  {
   "cell_type": "markdown",
   "id": "8f271813-baad-4dea-9de9-f6cb63d987ff",
   "metadata": {},
   "source": [
    "## Step 2: Creating an agent "
   ]
  },
  {
   "cell_type": "code",
   "execution_count": null,
   "id": "0e6a8a4c-a4c1-4dde-b4ef-f1e9f53994c3",
   "metadata": {},
   "outputs": [],
   "source": [
    "agent_name = \"simple_agent\""
   ]
  },
  {
   "cell_type": "code",
   "execution_count": null,
   "id": "d9f9b042-98a1-4768-bdc3-15cf95dbb3f3",
   "metadata": {},
   "outputs": [],
   "source": [
    "from letta.schemas.memory import ChatMemory\n",
    "\n",
    "agent_state = client.create_agent(\n",
    "    name=agent_name, \n",
    "    memory=ChatMemory(\n",
    "        human=\"My name is Sarah\", \n",
    "        persona=\"You are a helpful assistant that loves emojis\"\n",
    "    )\n",
    ")"
   ]
  },
  {
   "cell_type": "markdown",
   "id": "86b03089-9aed-4e04-a1f7-75e77e100198",
   "metadata": {},
   "source": [
    "### Messaging the agent \n",
    "Now we can message the agent! This agent will have memories about both itself and the human (you). When we send a message to the agent, we will get back a list of messages from the agents. \n",
    "\n",
    "Letta agents have some unique characteristics that allow them to have more advanced reasoning. Notice how: \n",
    "* The agent generates *inner thoughts* to think before it acts\n",
    "* Messages to the user are generated via a `send_message` tool "
   ]
  },
  {
   "cell_type": "code",
   "execution_count": null,
   "id": "e45f931c-29a5-4f2b-8744-1765c213aa40",
   "metadata": {},
   "outputs": [],
   "source": [
    "response = client.send_message(\n",
    "    agent_id=agent_state.id, \n",
    "    message=\"hello!\", \n",
    "    role=\"user\" \n",
    ")\n",
    "nb_print(response.messages)"
   ]
  },
  {
   "cell_type": "markdown",
   "id": "0fbad14d-614b-4f67-adea-056a13562fae",
   "metadata": {},
   "source": [
    "## Step 3: Understanding agent state \n",
    "Agents are essentailly multi-step reasoning programs which make multiple call to an LLM. Letta manages what is passed to the context window in reach reasoning step. The context window includes: \n",
    "* The *system prompt* to define the agent's behavior \n",
    "* The set of *tools* the agent has access to \n",
    "* The agent's *core memory* (i.e. in-context memory)\n",
    "* A summary of it's *archival memory* \n",
    "* A summary of it's *recall memory* \n",
    "* An in-context message queue\n",
    "\n",
    "In this section, we'll look at the current state of the agent to understand exactly what is being passed to the context window. "
   ]
  },
  {
   "cell_type": "markdown",
   "id": "2c02ea54-1cf1-4253-9ea0-8401b4af1224",
   "metadata": {},
   "source": [
    "### System Prompt \n",
    "The system prompt defines the behavior of the agent. Unlike the memory, the system prompt is not editable. "
   ]
  },
  {
   "cell_type": "code",
   "execution_count": null,
   "id": "41bc3258-2218-43e9-9559-252e95845572",
   "metadata": {},
   "outputs": [],
   "source": [
    "print(agent_state.system)"
   ]
  },
  {
   "cell_type": "markdown",
   "id": "1713ce65-1655-4ac1-a6ae-d27f4ca72683",
   "metadata": {},
   "source": [
    "### Tools \n",
    "The agent has access to a set of tools. Each tool is stored in a database, so it can be loaded and executed by the server. Letta also includes a set of default memory management tools, as well as the `send_message` tool to communicate with the human. "
   ]
  },
  {
   "cell_type": "code",
   "execution_count": null,
   "id": "87b05995-4572-4a24-8e67-9071c5101b63",
   "metadata": {},
   "outputs": [],
   "source": [
    "agent_state.tools"
   ]
  },
  {
   "cell_type": "markdown",
   "id": "fb258732-dbb7-4f0e-a895-a440ec09256b",
   "metadata": {},
   "source": [
    "### Core memory \n",
    "The core memory is the part of memory that is places *in-context*. "
   ]
  },
  {
   "cell_type": "code",
   "execution_count": null,
   "id": "582c1a61-b39e-410d-b049-2a1719af3f21",
   "metadata": {},
   "outputs": [],
   "source": [
    "memory = client.get_core_memory(agent_state.id)"
   ]
  },
  {
   "cell_type": "code",
   "execution_count": null,
   "id": "07cf336c-de93-449d-ab4e-440ccfbbc81e",
   "metadata": {},
   "outputs": [],
   "source": [
    "memory"
   ]
  },
  {
   "cell_type": "code",
   "execution_count": null,
   "id": "3a379a96-4d48-4727-82ea-53a75c38ce7f",
   "metadata": {},
   "outputs": [],
   "source": [
    "memory.get_block('human')"
   ]
  },
  {
   "cell_type": "markdown",
   "id": "e0997067-c3f3-46f0-83d3-7a91f472fd25",
   "metadata": {},
   "source": [
    "### Archival & Recall memory summaries\n",
    "The agent also has access to external memories (stored in a database). There are two types of external memory: \n",
    "* *Archival memory*: Memories stored in a vector database that are either saved by the agent itself, or loaded in by the user\n",
    "* *Recall memory*: The full conversational history of the agent\n",
    "\n",
    "Both of these memories stores can be queried by the agent for RAG. To ensure the agent knows that these external memories stores may have relevant information, the context window contains a summary of the number of rows in both archival and recall memory. "
   ]
  },
  {
   "cell_type": "code",
   "execution_count": null,
   "id": "2d57b72e-60a4-475c-b157-bf4f2253bf0b",
   "metadata": {},
   "outputs": [],
   "source": [
    "client.get_archival_memory_summary(agent_state.id)"
   ]
  },
  {
   "cell_type": "code",
   "execution_count": null,
   "id": "fcaf5103-412b-4dbd-a3e1-1707def174a4",
   "metadata": {},
   "outputs": [],
   "source": [
    "client.get_recall_memory_summary(agent_state.id)"
   ]
  },
  {
   "cell_type": "markdown",
   "id": "6dbff152-946e-4e64-8dcc-7d527cab0175",
   "metadata": {},
   "source": [
    "You can also directly query the full conversational history: "
   ]
  },
  {
   "cell_type": "code",
   "execution_count": null,
   "id": "73f3de44-662f-444d-b3cc-45f51a4c12c7",
   "metadata": {},
   "outputs": [],
   "source": [
    "client.get_messages(agent_state.id)"
   ]
  },
  {
   "cell_type": "markdown",
   "id": "b33971ab-5f9d-4228-9c79-8e3d12d9dbbd",
   "metadata": {},
   "source": [
    "## Section 4: Modifying core memory "
   ]
  },
  {
   "cell_type": "code",
   "execution_count": null,
   "id": "44574fda-f279-4ea1-9018-9d110b56f90f",
   "metadata": {},
   "outputs": [],
   "source": [
    "response = client.send_message(\n",
    "    agent_id=agent_state.id, \n",
    "    message = \"Save the information that 'bob loves cats' to archival\", \n",
    "    role = \"user\"\n",
    ") \n",
    "nb_print(response.messages)"
   ]
  },
  {
   "cell_type": "code",
   "execution_count": null,
   "id": "df5cbbab-df45-4a96-8cb8-45f79e1c67f9",
   "metadata": {},
   "outputs": [],
   "source": [
    "client.get_archival_memory(agent_state.id)[0].text"
   ]
  },
  {
   "cell_type": "markdown",
   "id": "8c352bbd-46df-490d-8667-ee16d9ce65a5",
   "metadata": {},
   "source": [
    "## Section 5: Modifying archival memory "
   ]
  },
  {
   "cell_type": "code",
   "execution_count": null,
   "id": "82474530-2168-4d1c-b165-2a3c47dac571",
   "metadata": {},
   "outputs": [],
   "source": [
    "client.insert_archival_memory(\n",
    "    agent_state.id, \n",
    "    \"Bob's loves boston terriers\"\n",
    ")"
   ]
  },
  {
   "cell_type": "code",
   "execution_count": null,
   "id": "e228d992-24c6-4d9a-887a-f60d3beedca1",
   "metadata": {},
   "outputs": [],
   "source": [
    "response = client.send_message(\n",
    "    agent_id=agent_state.id, \n",
    "    role=\"user\", \n",
    "    message=\"What animals do I like? Search archival.\"\n",
    ")\n",
    "nb_print(response.messages)"
   ]
  },
  {
   "cell_type": "code",
   "execution_count": null,
   "id": "0c0f9869-3bbd-4dda-9889-f08ac4e6bae7",
   "metadata": {},
   "outputs": [],
   "source": []
  }
 ],
 "metadata": {
  "kernelspec": {
   "display_name": "letta-tutorial",
   "language": "python",
   "name": "letta-tutorial"
  },
  "language_info": {
   "codemirror_mode": {
    "name": "ipython",
    "version": 3
   },
   "file_extension": ".py",
   "mimetype": "text/x-python",
   "name": "python",
   "nbconvert_exporter": "python",
   "pygments_lexer": "ipython3",
   "version": "3.12.6"
  }
 },
 "nbformat": 4,
 "nbformat_minor": 5
}
